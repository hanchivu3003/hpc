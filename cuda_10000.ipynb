{
  "nbformat": 4,
  "nbformat_minor": 0,
  "metadata": {
    "colab": {
      "provenance": [],
      "gpuType": "T4"
    },
    "kernelspec": {
      "name": "python3",
      "display_name": "Python 3"
    },
    "language_info": {
      "name": "python"
    },
    "accelerator": "GPU"
  },
  "cells": [
    {
      "cell_type": "code",
      "source": [
        "Chương trình tuần tự( 100, 1000, 5000, 10000, 20000)"
      ],
      "metadata": {
        "id": "ODq3ILTZtR2Q"
      },
      "execution_count": null,
      "outputs": []
    },
    {
      "cell_type": "code",
      "execution_count": null,
      "metadata": {
        "colab": {
          "base_uri": "https://localhost:8080/"
        },
        "id": "ytFu8YYeqr_O",
        "outputId": "a6663c21-c32a-48a4-cddf-8d7b362baaec"
      },
      "outputs": [
        {
          "output_type": "stream",
          "name": "stdout",
          "text": [
            "Nhân ma trận tuần tự mất: 287.1811 giây\n"
          ]
        }
      ],
      "source": [
        "import numpy as np\n",
        "import time\n",
        "\n",
        "# Khởi tạo ma trận kích thước lớn\n",
        "N = 20000 # Thay đổi kích thước N phù hợp với bộ nhớ\n",
        "A = np.random.rand(N, N)\n",
        "B = np.random.rand(N, N)\n",
        "\n",
        "# Nhân ma trận tuần tự\n",
        "start_time = time.time()\n",
        "C = np.dot(A, B)\n",
        "end_time = time.time()\n",
        "\n",
        "print(f\"Nhân ma trận tuần tự mất: {end_time - start_time:.4f} giây\")\n"
      ]
    },
    {
      "cell_type": "markdown",
      "source": [
        "Chương trình sử dụng thư viện cupy\n"
      ],
      "metadata": {
        "id": "zRSYQm_ZtoAG"
      }
    },
    {
      "cell_type": "code",
      "source": [],
      "metadata": {
        "id": "oSbw1ZB8EzJG"
      },
      "execution_count": null,
      "outputs": []
    },
    {
      "cell_type": "code",
      "source": [
        "import cupy as cp\n",
        "import time\n",
        "\n",
        "# Khởi tạo ma trận kích thước lớn\n",
        "N = 20000 # Thay đổi kích thước N phù hợp với GPU\n",
        "A = cp.random.rand(N, N)\n",
        "B = cp.random.rand(N, N)\n",
        "\n",
        "# Nhân ma trận trên GPU\n",
        "start_time = time.time()\n",
        "C = cp.dot(A, B)\n",
        "cp.cuda.Stream.null.synchronize()  # Đồng bộ để đảm bảo tính thời gian chính xác\n",
        "end_time = time.time()\n",
        "\n",
        "print(f\"Nhân ma trận bằng CuPy mất: {end_time - start_time:.4f} giây\")\n"
      ],
      "metadata": {
        "colab": {
          "base_uri": "https://localhost:8080/"
        },
        "id": "MGx_Cvddq_3a",
        "outputId": "d52abefc-6fe9-4e15-c196-da927bec0d37"
      },
      "execution_count": null,
      "outputs": [
        {
          "output_type": "stream",
          "name": "stdout",
          "text": [
            "Nhân ma trận bằng CuPy mất: 63.4141 giây\n"
          ]
        }
      ]
    },
    {
      "cell_type": "markdown",
      "source": [
        "Sử dụng thư viện numba"
      ],
      "metadata": {
        "id": "whUu9Fift0IF"
      }
    },
    {
      "cell_type": "code",
      "source": [
        "import numpy as np\n",
        "from numba import cuda\n",
        "import time\n",
        "\n",
        "# Hàm nhân ma trận trên GPU\n",
        "@cuda.jit\n",
        "def matmul_gpu(A, B, C):\n",
        "    row, col = cuda.grid(2)\n",
        "    if row < C.shape[0] and col < C.shape[1]:\n",
        "        temp = 0\n",
        "        for k in range(A.shape[1]):\n",
        "            temp += A[row, k] * B[k, col]\n",
        "        C[row, col] = temp\n",
        "\n",
        "# Khởi tạo ma trận kích thước lớn\n",
        "N = 10000 # Thay đổi kích thước N phù hợp với GPU\n",
        "A = np.random.rand(N, N).astype(np.float32)\n",
        "B = np.random.rand(N, N).astype(np.float32)\n",
        "C = np.zeros((N, N), dtype=np.float32)\n",
        "\n",
        "# Copy dữ liệu lên GPU\n",
        "A_gpu = cuda.to_device(A)\n",
        "B_gpu = cuda.to_device(B)\n",
        "C_gpu = cuda.to_device(C)\n",
        "# Cấu hình lưới và khối\n",
        "threads_per_block = (16, 16)\n",
        "blocks_per_grid = (int(np.ceil(N / threads_per_block[0])), int(np.ceil(N / threads_per_block[1])))\n",
        "# Nhân ma trận\n",
        "start_time = time.time()\n",
        "matmul_gpu[blocks_per_grid, threads_per_block](A_gpu, B_gpu, C_gpu)\n",
        "cuda.synchronize()  # Đồng bộ để đảm bảo tính thời gian chính xác\n",
        "end_time = time.time()\n",
        "# Copy kết quả về CPU\n",
        "C = C_gpu.copy_to_host()\n",
        "print(f\"Nhân ma trận bằng Numba mất: {end_time - start_time:.4f} giây\")\n"
      ],
      "metadata": {
        "id": "2-TlikxOrBKJ"
      },
      "execution_count": null,
      "outputs": []
    }
  ]
}